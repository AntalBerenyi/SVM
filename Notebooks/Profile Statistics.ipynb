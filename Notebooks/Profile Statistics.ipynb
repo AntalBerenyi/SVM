{
 "cells": [
  {
   "cell_type": "markdown",
   "metadata": {},
   "source": [
    "# Profile Data Statistics"
   ]
  },
  {
   "cell_type": "code",
   "execution_count": null,
   "metadata": {},
   "outputs": [],
   "source": [
    "# number of profiles\n",
    "# number of labels\n",
    "# number of missing values per row / column\n",
    "# min\n",
    "# max\n",
    "# mean\n",
    "# median\n",
    "# range\n",
    "# correlation ranking\n",
    "# data type 'float32'\n",
    "# There are also potentially some inconsistent fields and potentially incorrect data that I discovered on the way and outlined this in this notebook\n",
    "# Find correlation between features to eliminate some... Perhaps after fitting the data identify which features are less relevant and if missing fill in with \"noise\".\n"
   ]
  }
 ],
 "metadata": {
  "kernelspec": {
   "display_name": "Python 3",
   "language": "python",
   "name": "python3"
  },
  "language_info": {
   "codemirror_mode": {
    "name": "ipython",
    "version": 3
   },
   "file_extension": ".py",
   "mimetype": "text/x-python",
   "name": "python",
   "nbconvert_exporter": "python",
   "pygments_lexer": "ipython3",
   "version": "3.6.3"
  }
 },
 "nbformat": 4,
 "nbformat_minor": 2
}
