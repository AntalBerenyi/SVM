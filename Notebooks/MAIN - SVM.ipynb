{
 "cells": [
  {
   "cell_type": "markdown",
   "metadata": {},
   "source": [
    "# SVM Model Evaluation & Validation\n",
    "## Overview\n",
    "\n",
    "This project is based on the original work: \"Building Predictive Models for Mechanism-of-Action Classification from Phenotypic Assay Data Sets\". The aim is to get a basic working idea of what's going on and get a working model. It is NOT intended to exactly replicate what the original work was doing. \n",
    "\n",
    "The [original work](http://journals.sagepub.com/doi/abs/10.1177/1087057113505324) built a predictive model for assigning mechanism class to compounds and bioactive agents. The model used 84 features and 309 environmental chemicals. The mechanism classes can used to evaluate the safety and efficacy of compounds and include classes such as inhibitors of mitochondrial and microtubule function, etc.\n",
    "\n",
    "## Read the data\n",
    "\n",
    "\n",
    "## Features"
   ]
  },
  {
   "cell_type": "markdown",
   "metadata": {},
   "source": [
    "----\n",
    "## Data Exploration\n",
    "\n",
    "### Calculate Statistics\n",
    "\n",
    "### Profile plots\n",
    "\n",
    "### Mechanism box plots\n",
    "\n",
    "### Feature observations"
   ]
  },
  {
   "cell_type": "markdown",
   "metadata": {},
   "source": [
    "----\n",
    "## Develop Model\n",
    "\n",
    "### Define performance metric\n",
    "\n",
    "### Does the model capture differences among classes?"
   ]
  },
  {
   "cell_type": "markdown",
   "metadata": {},
   "source": [
    "----\n",
    "## Analyzing Model Performance\n",
    "This section we'll take a look at the model's learning and testing performances on various subsets of training data.  Graphing your model's performance based on varying criteria can be beneficial in the analysis process, such as visualizing behavior that may not have been apparent from the results alone.\n",
    "\n",
    "### Learning Curves\n",
    "This graph visalizes the SVM both model's traiing and testing performance with increasing data set size. The shaded region denotes uncertainty of the curve measured in standard deviation.\n",
    "The model is scored on both the training and testing sets using R2, the coefficient of determination.\n",
    "\n"
   ]
  },
  {
   "cell_type": "markdown",
   "metadata": {},
   "source": [
    "-----\n",
    "## Evaluating Model Performance\n",
    "We'll construct a model and make a prediction on the compounds in client data sets, using the optimized model.\n",
    "\n",
    "### Grid Search\n",
    " - Grid search is used to find the optimal values of a learning algorithm. It is used to calculate many performace scores of a learning algorithm corresponding to a range of hyper-parameter values and pick the best set of hyper-parameter values. It is a 'grid' in the sense that permutations of hyper-parameter values calculated that can be summarized and displayed in grid or a table.\n",
    " - Grid search can be applied to optimize a learning algorithm by running it with a range of hyper-parameters to see which combination of parameters perform best. A set of hyper-parameretes are varied between predefined ranges of values and the model is trained with these values. The optimal set of hyper-parameters are then reported. The model is then tested (evaluated) using a portion of the data not used for training.\n",
    " - The hyper parameter of importance when working with SVM is C. To balance margin violations and keeping the separation as wide as possible, SVM algorithm has the hyper-parameter C to control this balance. Reducing C will generalize the model better because it emphasizes the regularization term. Large value of C gives higher weight to the individual feaures while therefore it increases variance. "
   ]
  },
  {
   "cell_type": "markdown",
   "metadata": {},
   "source": [
    "----\n",
    "## Making Predictions\n",
    "The SVM model has been trained on the given set of data, it can now be used to make predictions on new sets of input compounds. We can use these prediciond to gain information about a compound exhibits featues that make it likely to be in a Mechanism class.\n"
   ]
  },
  {
   "cell_type": "code",
   "execution_count": null,
   "metadata": {},
   "outputs": [],
   "source": []
  }
 ],
 "metadata": {
  "kernelspec": {
   "display_name": "Python 3",
   "language": "python",
   "name": "python3"
  },
  "language_info": {
   "codemirror_mode": {
    "name": "ipython",
    "version": 3
   },
   "file_extension": ".py",
   "mimetype": "text/x-python",
   "name": "python",
   "nbconvert_exporter": "python",
   "pygments_lexer": "ipython3",
   "version": "3.6.3"
  }
 },
 "nbformat": 4,
 "nbformat_minor": 2
}
