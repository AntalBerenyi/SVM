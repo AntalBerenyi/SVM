{
 "cells": [
  {
   "cell_type": "markdown",
   "metadata": {},
   "source": [
    "# Train all SVM predictors"
   ]
  },
  {
   "cell_type": "code",
   "execution_count": 1,
   "metadata": {},
   "outputs": [],
   "source": [
    "from collections import Counter\n",
    "import numpy as np\n",
    "import pandas as pd\n",
    "import seaborn as sns\n",
    "import matplotlib as mpl\n",
    "import warnings\n",
    "from sklearn.model_selection import ShuffleSplit, StratifiedShuffleSplit, StratifiedKFold\n",
    "from IPython.display import display\n",
    "from scripts.random_profiles import RandomProfileGenerator\n",
    "from scripts.profile_reader2 import ProfileReader\n",
    "from scripts.svm_tools import plot_learning_curve, grid_search_svm, RS\n",
    "from sklearn.metrics import accuracy_score, precision_score, recall_score, f1_score\n",
    "from imblearn.over_sampling import SMOTE\n",
    "from sklearn.externals import joblib\n",
    "\n",
    "pd.options.display.max_rows = 30\n",
    "pd.options.display.max_columns = 300\n",
    "import matplotlib.pyplot as plt\n",
    "%matplotlib inline\n",
    "\n",
    "pr = ProfileReader(data_file='data\\\\Final_Berg JBS 2013 Supplemental Table 3_For SVM14Dec2017.xlsx',  \n",
    "                       mechanism_file='data\\\\Final_Berg JBS 2013 Supplemental Table 3_For SVM14Dec2017 - Mechanisms.xlsx')\n",
    "\n",
    "# read in data.\n",
    "data = pr.get_profile(index=['mech'])\n",
    "mc = pr.get_mechanism_count()\n",
    "\n",
    "mechs = pr.get_mechanism_count()['Mechanism']"
   ]
  },
  {
   "cell_type": "code",
   "execution_count": 2,
   "metadata": {},
   "outputs": [
    {
     "data": {
      "text/plain": [
       "['svm_classifiers.pkl']"
      ]
     },
     "execution_count": 2,
     "metadata": {},
     "output_type": "execute_result"
    }
   ],
   "source": [
    "clfs = {}\n",
    "\n",
    "# ensure reprodicible results\n",
    "np.random.seed(442)\n",
    "for mech in mechs[0:]:\n",
    "     \n",
    "    # get training data with 100 negative class\n",
    "    X, y = pr.get_x_y(mech=mech, impute='group_mean', normalize='l2', prof_num=30)    \n",
    "    X0 = X[y==1]\n",
    "    \n",
    "    # Synthetic Minority Oversampling Technique. Bring the positive class numbers up to the random negative class.\n",
    "    k_n = min(Counter(y)[1]-1 ,5)\n",
    "    #X, y = SMOTE(k_neighbors=k_n, kind='regular').fit_sample(X, y)\n",
    "    \n",
    "    best_clf = grid_search_svm(X, y, scorer=precision_score, parameters={'C': [500]})\n",
    "        \n",
    "    clfs.update({mech: best_clf})\n",
    "    \n",
    "\n",
    "joblib.dump(clfs, 'svm_classifiers.pkl') "
   ]
  },
  {
   "cell_type": "code",
   "execution_count": 3,
   "metadata": {},
   "outputs": [],
   "source": [
    "clfs = joblib.load('svm_classifiers.pkl') "
   ]
  },
  {
   "cell_type": "code",
   "execution_count": null,
   "metadata": {},
   "outputs": [],
   "source": [
    "mechs"
   ]
  },
  {
   "cell_type": "code",
   "execution_count": null,
   "metadata": {},
   "outputs": [],
   "source": []
  },
  {
   "cell_type": "code",
   "execution_count": null,
   "metadata": {
    "scrolled": false
   },
   "outputs": [],
   "source": []
  },
  {
   "cell_type": "code",
   "execution_count": null,
   "metadata": {},
   "outputs": [],
   "source": []
  }
 ],
 "metadata": {
  "kernelspec": {
   "display_name": "Python 3",
   "language": "python",
   "name": "python3"
  },
  "language_info": {
   "codemirror_mode": {
    "name": "ipython",
    "version": 3
   },
   "file_extension": ".py",
   "mimetype": "text/x-python",
   "name": "python",
   "nbconvert_exporter": "python",
   "pygments_lexer": "ipython3",
   "version": "3.6.4"
  }
 },
 "nbformat": 4,
 "nbformat_minor": 2
}
