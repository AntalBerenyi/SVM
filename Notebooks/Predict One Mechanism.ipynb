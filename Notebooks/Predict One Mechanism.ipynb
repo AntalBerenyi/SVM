{
 "cells": [
  {
   "cell_type": "markdown",
   "metadata": {},
   "source": [
    "# Train and predict with one mechanism "
   ]
  },
  {
   "cell_type": "code",
   "execution_count": 9,
   "metadata": {},
   "outputs": [],
   "source": [
    "import numpy as np\n",
    "import pandas as pd\n",
    "import seaborn as sns\n",
    "from IPython.display import display\n",
    "from pandasql import sqldf\n",
    "from random_profiles import RandomProfileGenerator\n",
    "\n",
    "pd.options.display.max_rows = 5\n",
    "pd.options.display.max_columns = 300\n",
    "%matplotlib inline\n",
    "\n",
    "pqry = lambda q: sqldf(q, globals())"
   ]
  },
  {
   "cell_type": "code",
   "execution_count": 2,
   "metadata": {},
   "outputs": [
    {
     "data": {
      "text/html": [
       "<div>\n",
       "<style scoped>\n",
       "    .dataframe tbody tr th:only-of-type {\n",
       "        vertical-align: middle;\n",
       "    }\n",
       "\n",
       "    .dataframe tbody tr th {\n",
       "        vertical-align: top;\n",
       "    }\n",
       "\n",
       "    .dataframe thead th {\n",
       "        text-align: right;\n",
       "    }\n",
       "</style>\n",
       "<table border=\"1\" class=\"dataframe\">\n",
       "  <thead>\n",
       "    <tr style=\"text-align: right;\">\n",
       "      <th></th>\n",
       "      <th>Mechanism</th>\n",
       "      <th>count</th>\n",
       "    </tr>\n",
       "  </thead>\n",
       "  <tbody>\n",
       "    <tr>\n",
       "      <th>0</th>\n",
       "      <td>mTOR inhibitor</td>\n",
       "      <td>27</td>\n",
       "    </tr>\n",
       "  </tbody>\n",
       "</table>\n",
       "</div>"
      ],
      "text/plain": [
       "        Mechanism  count\n",
       "0  mTOR inhibitor     27"
      ]
     },
     "execution_count": 2,
     "metadata": {},
     "output_type": "execute_result"
    }
   ],
   "source": [
    "# get data\n",
    "data = pd.read_excel('Data/Final_Berg JBS 2013 Supplemental Table 3_For SVM14Dec2017 - Labels.xlsx')\n",
    "\n",
    "# Select Mechanism with greatest count \n",
    "pqry('''SELECT Mechanism, count(Mechanism) count FROM data m group by Mechanism order by count(Mechanism) desc LIMIT 1;''')\n"
   ]
  },
  {
   "cell_type": "code",
   "execution_count": 3,
   "metadata": {},
   "outputs": [],
   "source": [
    "# Impute missing\n",
    "grouped = data.iloc[:,2:].groupby(data[\"Mechanism\"])\n",
    "f = lambda x: x.fillna(x.mean())\n",
    "data.iloc[:,2:] = grouped.transform(f)\n",
    "#data[75:82]"
   ]
  },
  {
   "cell_type": "code",
   "execution_count": 4,
   "metadata": {},
   "outputs": [],
   "source": [
    "mechanisms = pqry('''SELECT distinct Mechanism from data''').values.ravel()"
   ]
  },
  {
   "cell_type": "code",
   "execution_count": 5,
   "metadata": {},
   "outputs": [],
   "source": [
    "pos_class = pqry('''select * from data where Mechanism = \"mTOR inhibitor\" ''' ).iloc[:, 1:]"
   ]
  },
  {
   "cell_type": "code",
   "execution_count": 14,
   "metadata": {},
   "outputs": [],
   "source": [
    "# Initialize the random profile genearator with sig env values and profile data file for S:M\n",
    "rpg = RandomProfileGenerator(envelope_file='SigEnvelopeFile.xml', data_file='SVMData.xlsx')\n",
    "\n",
    "envelope=RandomProfileGenerator.TRUSTED \n",
    "conf=RandomProfileGenerator._95\n",
    "neg_values = rpg.get_random_profiles(prof_num=len(pos_class), envelope=envelope,conf=conf, dist='rand')\n"
   ]
  },
  {
   "cell_type": "code",
   "execution_count": 13,
   "metadata": {},
   "outputs": [],
   "source": [
    "neg_mech = pd.DataFrame({'Mechanism': ['neg_class' for s in range(len(pos_class))]})"
   ]
  },
  {
   "cell_type": "code",
   "execution_count": 29,
   "metadata": {},
   "outputs": [
    {
     "data": {
      "text/plain": [
       "0     mTOR inhibitor\n",
       "1     mTOR inhibitor\n",
       "           ...      \n",
       "52         neg_class\n",
       "53         neg_class\n",
       "Name: Mechanism, Length: 54, dtype: object"
      ]
     },
     "execution_count": 29,
     "metadata": {},
     "output_type": "execute_result"
    }
   ],
   "source": [
    "neg_class = pd.concat([neg_mech, neg_values], axis=1)\n",
    "all_class = pd.concat([pos_class, neg_class]).reset_index(drop=True)\n",
    "X = all_class.iloc[:,1:]\n",
    "Y = all_class.iloc[:,0]\n",
    "Y"
   ]
  },
  {
   "cell_type": "code",
   "execution_count": null,
   "metadata": {},
   "outputs": [],
   "source": [
    "# test train split"
   ]
  }
 ],
 "metadata": {
  "kernelspec": {
   "display_name": "Python 3",
   "language": "python",
   "name": "python3"
  },
  "language_info": {
   "codemirror_mode": {
    "name": "ipython",
    "version": 3
   },
   "file_extension": ".py",
   "mimetype": "text/x-python",
   "name": "python",
   "nbconvert_exporter": "python",
   "pygments_lexer": "ipython3",
   "version": "3.6.3"
  }
 },
 "nbformat": 4,
 "nbformat_minor": 2
}
